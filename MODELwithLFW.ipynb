{
  "nbformat": 4,
  "nbformat_minor": 0,
  "metadata": {
    "colab": {
      "name": "MODELwithLFW.ipynb",
      "provenance": [],
      "collapsed_sections": [],
      "authorship_tag": "ABX9TyOibzVO/JbA1pceohLHTnyN",
      "include_colab_link": true
    },
    "kernelspec": {
      "name": "python3",
      "display_name": "Python 3"
    },
    "language_info": {
      "name": "python"
    }
  },
  "cells": [
    {
      "cell_type": "markdown",
      "metadata": {
        "id": "view-in-github",
        "colab_type": "text"
      },
      "source": [
        "<a href=\"https://colab.research.google.com/github/zeynepmerve97/FaceRecognitionModelwithCNN/blob/main/MODELwithLFW.ipynb\" target=\"_parent\"><img src=\"https://colab.research.google.com/assets/colab-badge.svg\" alt=\"Open In Colab\"/></a>"
      ]
    },
    {
      "cell_type": "code",
      "metadata": {
        "id": "9Y-zxOzQrm4k"
      },
      "source": [
        "from sklearn.datasets import fetch_lfw_people\n",
        "from sklearn.model_selection import train_test_split\n",
        "import numpy as np\n",
        "import keras\n",
        "\n",
        "from keras.models import Sequential\n",
        "from keras.layers import Dense, Dropout, Flatten\n",
        "from keras.layers import Conv2D, MaxPooling2D\n",
        "from keras import backend as K\n",
        "import os\n",
        "import pandas as pd\n",
        "import cv2"
      ],
      "execution_count": null,
      "outputs": []
    },
    {
      "cell_type": "code",
      "metadata": {
        "colab": {
          "base_uri": "https://localhost:8080/"
        },
        "id": "BLNv6utIrwbA",
        "outputId": "f879bb16-ba67-452a-9e9d-9952471bb46d"
      },
      "source": [
        "from sklearn.datasets import fetch_lfw_people\n",
        "lfw_people = fetch_lfw_people(min_faces_per_person=70, resize=0.4)"
      ],
      "execution_count": null,
      "outputs": [
        {
          "output_type": "stream",
          "text": [
            "Downloading LFW metadata: https://ndownloader.figshare.com/files/5976012\n",
            "Downloading LFW metadata: https://ndownloader.figshare.com/files/5976009\n",
            "Downloading LFW metadata: https://ndownloader.figshare.com/files/5976006\n",
            "Downloading LFW data (~200MB): https://ndownloader.figshare.com/files/5976015\n"
          ],
          "name": "stderr"
        }
      ]
    },
    {
      "cell_type": "code",
      "metadata": {
        "id": "vGc1N9ZBryNk"
      },
      "source": [
        "n_samples, h, w = lfw_people.images.shape\n",
        "X = lfw_people.data\n",
        "n_features = X.shape[1]\n",
        "y = lfw_people.target\n",
        "target_names = lfw_people.target_names\n",
        "n_classes = target_names.shape[0]"
      ],
      "execution_count": null,
      "outputs": []
    },
    {
      "cell_type": "code",
      "metadata": {
        "colab": {
          "base_uri": "https://localhost:8080/"
        },
        "id": "f2AJLuZ4ryVr",
        "outputId": "0e0a76d5-3035-437a-aa1a-ef0fa33d2298"
      },
      "source": [
        "print(\"Total dataset size:\")\n",
        "print(\"number of samples: \" , n_samples)\n",
        "print(\"number of classes: \" , n_classes)\n",
        "print(\"image dimensions: \", h, w)\n",
        "print(\"number of features per image: \", h*w)"
      ],
      "execution_count": null,
      "outputs": [
        {
          "output_type": "stream",
          "text": [
            "Total dataset size:\n",
            "number of samples:  1288\n",
            "number of classes:  7\n",
            "image dimensions:  50 37\n",
            "number of features per image:  1850\n"
          ],
          "name": "stdout"
        }
      ]
    },
    {
      "cell_type": "code",
      "metadata": {
        "colab": {
          "base_uri": "https://localhost:8080/"
        },
        "id": "PTCz54jLrya-",
        "outputId": "49ed9ef6-0fe7-4915-923e-f4d4d210a8b3"
      },
      "source": [
        "lfw_people.target_names"
      ],
      "execution_count": null,
      "outputs": [
        {
          "output_type": "execute_result",
          "data": {
            "text/plain": [
              "array(['Ariel Sharon', 'Colin Powell', 'Donald Rumsfeld', 'George W Bush',\n",
              "       'Gerhard Schroeder', 'Hugo Chavez', 'Tony Blair'], dtype='<U17')"
            ]
          },
          "metadata": {
            "tags": []
          },
          "execution_count": 5
        }
      ]
    },
    {
      "cell_type": "code",
      "metadata": {
        "id": "Z3zyATiyr21r"
      },
      "source": [
        "labelNames=[\"Ariel Sharon\", \"Colin Powell\", \"Donald Rumsfeld\", \"George W Bush\",\n",
        "           \"Gerhard Schroeder\", \"Hugo Chavez\", \"Jean Chretien\",\n",
        "       \"Ahcroft\", \"Junichiro Koizumi\", \"Tony Blair\"]"
      ],
      "execution_count": null,
      "outputs": []
    },
    {
      "cell_type": "code",
      "metadata": {
        "colab": {
          "base_uri": "https://localhost:8080/"
        },
        "id": "pRPlVdRqr-2G",
        "outputId": "bb291f7f-675d-4b0c-dec7-9e9bb56d5e57"
      },
      "source": [
        "X_train, X_test, y_train, y_test = train_test_split(X, y, test_size=0.4)\n",
        "print(X_train.shape)"
      ],
      "execution_count": null,
      "outputs": [
        {
          "output_type": "stream",
          "text": [
            "(772, 1850)\n"
          ],
          "name": "stdout"
        }
      ]
    },
    {
      "cell_type": "code",
      "metadata": {
        "id": "Iju6Kl03tCep"
      },
      "source": [
        "import tensorflow as tf\n",
        "\n",
        "y_train= tf.keras.utils.to_categorical(y_train, num_classes= 10)\n",
        "y_test = tf.keras.utils.to_categorical(y_test,num_classes= 10)"
      ],
      "execution_count": null,
      "outputs": []
    },
    {
      "cell_type": "code",
      "metadata": {
        "id": "VqWnqHT2r_l0"
      },
      "source": [
        "#görüntülerin ağırlık ve derinlik değerleri 50 olarak ayarlanıyor.\n",
        "img=[]\n",
        "for i in range(len(X_train)):\n",
        "      z=cv2.resize(X_train[i],(50,50)).astype(np.float32)\n",
        "      z = np.expand_dims(z, axis=0)\n",
        "      img.append(z)\n",
        "Xnew_train=np.array(img)\n",
        "img=[]\n",
        "for i in range(len(X_test)):\n",
        "  r=cv2.resize(X_train[i],(50,50)).astype(np.float32)\n",
        "  r = np.expand_dims(r, axis=0)\n",
        "  img.append(r)\n",
        "Xnew_test=np.array(img)"
      ],
      "execution_count": null,
      "outputs": []
    },
    {
      "cell_type": "code",
      "metadata": {
        "colab": {
          "base_uri": "https://localhost:8080/"
        },
        "id": "lVkbMyd0sBy2",
        "outputId": "59566ff0-7726-4f39-ebd3-e22b11bca075"
      },
      "source": [
        "x_test= Xnew_test.reshape(-1,50,50,1)\n",
        "x_train = Xnew_train.reshape(-1,50,50,1)\n",
        "print(x_train.shape)\n",
        "print(x_test.shape)"
      ],
      "execution_count": null,
      "outputs": [
        {
          "output_type": "stream",
          "text": [
            "(772, 50, 50, 1)\n",
            "(516, 50, 50, 1)\n"
          ],
          "name": "stdout"
        }
      ]
    },
    {
      "cell_type": "markdown",
      "metadata": {
        "id": "cl5SAr5wsaGq"
      },
      "source": [
        "FIRST MODEL"
      ]
    },
    {
      "cell_type": "code",
      "metadata": {
        "id": "NGFIpBApsDam"
      },
      "source": [
        "model_first = Sequential()\n",
        "model_first .add(Conv2D(32, kernel_size = (5,5),padding = 'Same',strides=(2, 2),\n",
        "                 activation ='relu', input_shape = (50,50,1) ))\n",
        "model_first .add(Conv2D(64, kernel_size = (5,5),padding = 'Same', \n",
        "                 activation ='relu'))\n",
        "model_first .add(MaxPooling2D(5,5,padding='same'))\n",
        "model_first .add(Dropout(0.25))\n",
        "\n",
        "model_first .add(Conv2D(128, kernel_size = (5,5),padding = 'Same', \n",
        "                 activation ='relu'))\n",
        "model_first .add(Conv2D(256, kernel_size = (5,5),padding = 'Same', \n",
        "                  \n",
        "                 activation ='relu'))\n",
        "\n",
        "model_first .add(Dropout(0.50))\n",
        "\n",
        "model_first .add(Flatten())\n",
        "model_first .add(Dense(128, activation = \"relu\"))\n",
        "model_first .add(Dropout(0.50))\n",
        "\n",
        "model_first .add(Dense(10, activation = \"softmax\"))\n",
        "     \n",
        "    \n",
        "model_first .compile(optimizer='adam',\n",
        "              loss='categorical_crossentropy',\n",
        "              metrics=['accuracy'])"
      ],
      "execution_count": null,
      "outputs": []
    },
    {
      "cell_type": "code",
      "metadata": {
        "colab": {
          "base_uri": "https://localhost:8080/"
        },
        "id": "xvRZvVSwskDc",
        "outputId": "30278a0c-4cc0-4239-b9a6-e8834aca1e68"
      },
      "source": [
        "model_first.summary()"
      ],
      "execution_count": null,
      "outputs": [
        {
          "output_type": "stream",
          "text": [
            "Model: \"sequential\"\n",
            "_________________________________________________________________\n",
            "Layer (type)                 Output Shape              Param #   \n",
            "=================================================================\n",
            "conv2d (Conv2D)              (None, 25, 25, 32)        832       \n",
            "_________________________________________________________________\n",
            "conv2d_1 (Conv2D)            (None, 25, 25, 64)        51264     \n",
            "_________________________________________________________________\n",
            "max_pooling2d (MaxPooling2D) (None, 5, 5, 64)          0         \n",
            "_________________________________________________________________\n",
            "dropout (Dropout)            (None, 5, 5, 64)          0         \n",
            "_________________________________________________________________\n",
            "conv2d_2 (Conv2D)            (None, 5, 5, 128)         204928    \n",
            "_________________________________________________________________\n",
            "conv2d_3 (Conv2D)            (None, 5, 5, 256)         819456    \n",
            "_________________________________________________________________\n",
            "dropout_1 (Dropout)          (None, 5, 5, 256)         0         \n",
            "_________________________________________________________________\n",
            "flatten (Flatten)            (None, 6400)              0         \n",
            "_________________________________________________________________\n",
            "dense (Dense)                (None, 128)               819328    \n",
            "_________________________________________________________________\n",
            "dropout_2 (Dropout)          (None, 128)               0         \n",
            "_________________________________________________________________\n",
            "dense_1 (Dense)              (None, 10)                1290      \n",
            "=================================================================\n",
            "Total params: 1,897,098\n",
            "Trainable params: 1,897,098\n",
            "Non-trainable params: 0\n",
            "_________________________________________________________________\n"
          ],
          "name": "stdout"
        }
      ]
    },
    {
      "cell_type": "code",
      "metadata": {
        "id": "WHmze8rjsNR5"
      },
      "source": [
        "epochs = 25\n",
        "batch_size = 128\n",
        "hist1= model_first.fit(x_train, y_train, epochs=epochs, batch_size = batch_size,verbose=1, validation_data=(x_test, y_test))"
      ],
      "execution_count": null,
      "outputs": []
    },
    {
      "cell_type": "code",
      "metadata": {
        "id": "EoUTguDysP6w"
      },
      "source": [
        "score_first = model_first.evaluate(x_test, y_test, verbose=0)\n",
        "print('model Test accuracy: {0:%}'.format(score_first[1]))"
      ],
      "execution_count": null,
      "outputs": []
    },
    {
      "cell_type": "code",
      "metadata": {
        "id": "pEg5t2OEsTae"
      },
      "source": [
        "# ilk model doğruluk grafiği\n",
        "import matplotlib.pyplot as plt\n",
        "\n",
        "plt.plot(hist1.history['accuracy'])\n",
        "plt.plot(hist1.history['val_accuracy'])\n",
        "plt.title('model accuracy')\n",
        "plt.ylabel('accuracy')\n",
        "plt.xlabel('epoch')\n",
        "plt.legend(['train', 'test'], loc='upper left')\n",
        "plt.show()\n",
        "plt.savefig('first_model_accuracy.jpeg')"
      ],
      "execution_count": null,
      "outputs": []
    },
    {
      "cell_type": "code",
      "metadata": {
        "id": "2N3pnT45sVdl"
      },
      "source": [
        "#ilk model kayıp grafiği\n",
        "plt.plot(hist1.history['loss'])\n",
        "plt.plot(hist1.history['val_loss'])\n",
        "plt.title('model loss')\n",
        "plt.ylabel('loss')\n",
        "plt.xlabel('epoch')\n",
        "plt.legend(['train', 'test'], loc='upper left')\n",
        "plt.show()\n",
        "plt.savefig('first_model_loss.jpeg')"
      ],
      "execution_count": null,
      "outputs": []
    },
    {
      "cell_type": "markdown",
      "metadata": {
        "id": "_BU-QqAYseJK"
      },
      "source": [
        "SECOND MODEL"
      ]
    },
    {
      "cell_type": "code",
      "metadata": {
        "id": "31a18CO8sfay"
      },
      "source": [
        "model_second= Sequential()\n",
        "model_second.add(Conv2D(32, kernel_size = (5,5),padding = 'Same',strides=(2, 2),\n",
        "                 activation ='relu', input_shape = (50,50,1) ))\n",
        "model_second.add(Conv2D(64, kernel_size = (5,5),padding = 'Same', \n",
        "                 activation ='relu'))\n",
        "model_second.add(MaxPooling2D(5,5,padding='same'))\n",
        "model_second.add(Dropout(0.25))\n",
        "\n",
        "model_second.add(Conv2D(128, kernel_size = (5,5),padding = 'Same', \n",
        "                 activation ='relu'))\n",
        "model_second.add(Conv2D(256, kernel_size = (5,5),padding = 'Same', \n",
        "                  \n",
        "                 activation ='relu'))\n",
        "\n",
        "model_second.add(Dropout(0.50))\n",
        "\n",
        "model_second.add(Flatten())\n",
        "model_second.add(Dense(128, activation = \"relu\"))\n",
        "model_second.add(Dropout(0.50))\n",
        "\n",
        "model_second.add(Dense(10, activation = \"sigmoid\"))\n",
        "     \n",
        "    \n",
        "model_second.compile(optimizer='adam',\n",
        "              loss='binary_crossentropy',\n",
        "              metrics=['binary_accuracy'])"
      ],
      "execution_count": null,
      "outputs": []
    },
    {
      "cell_type": "code",
      "metadata": {
        "colab": {
          "base_uri": "https://localhost:8080/"
        },
        "id": "fdH4YPmEswBG",
        "outputId": "03659ab8-4943-4f2f-8f5d-fcea8aedfbc0"
      },
      "source": [
        "model_second.summary()"
      ],
      "execution_count": null,
      "outputs": [
        {
          "output_type": "stream",
          "text": [
            "Model: \"sequential_2\"\n",
            "_________________________________________________________________\n",
            "Layer (type)                 Output Shape              Param #   \n",
            "=================================================================\n",
            "conv2d_7 (Conv2D)            (None, 25, 25, 32)        832       \n",
            "_________________________________________________________________\n",
            "conv2d_8 (Conv2D)            (None, 25, 25, 64)        51264     \n",
            "_________________________________________________________________\n",
            "max_pooling2d_2 (MaxPooling2 (None, 5, 5, 64)          0         \n",
            "_________________________________________________________________\n",
            "dropout_4 (Dropout)          (None, 5, 5, 64)          0         \n",
            "_________________________________________________________________\n",
            "conv2d_9 (Conv2D)            (None, 5, 5, 128)         204928    \n",
            "_________________________________________________________________\n",
            "conv2d_10 (Conv2D)           (None, 5, 5, 256)         819456    \n",
            "_________________________________________________________________\n",
            "dropout_5 (Dropout)          (None, 5, 5, 256)         0         \n",
            "_________________________________________________________________\n",
            "flatten_1 (Flatten)          (None, 6400)              0         \n",
            "_________________________________________________________________\n",
            "dense_2 (Dense)              (None, 128)               819328    \n",
            "_________________________________________________________________\n",
            "dropout_6 (Dropout)          (None, 128)               0         \n",
            "_________________________________________________________________\n",
            "dense_3 (Dense)              (None, 10)                1290      \n",
            "=================================================================\n",
            "Total params: 1,897,098\n",
            "Trainable params: 1,897,098\n",
            "Non-trainable params: 0\n",
            "_________________________________________________________________\n"
          ],
          "name": "stdout"
        }
      ]
    },
    {
      "cell_type": "code",
      "metadata": {
        "colab": {
          "base_uri": "https://localhost:8080/"
        },
        "id": "REipoWxasrKO",
        "outputId": "6897cac3-4642-4bc0-a230-fef862eb4267"
      },
      "source": [
        "epochs = 25\n",
        "batch_size = 128\n",
        "hist= model_second.fit(x_train, y_train, epochs=epochs, batch_size = batch_size,verbose=1, validation_data=(x_test, y_test))"
      ],
      "execution_count": null,
      "outputs": [
        {
          "output_type": "stream",
          "text": [
            "Epoch 1/25\n",
            "7/7 [==============================] - 26s 1s/step - loss: 2.8965 - binary_accuracy: 0.7012 - val_loss: 0.2954 - val_binary_accuracy: 0.9002\n",
            "Epoch 2/25\n",
            "7/7 [==============================] - 9s 1s/step - loss: 0.3481 - binary_accuracy: 0.8734 - val_loss: 0.2992 - val_binary_accuracy: 0.9000\n",
            "Epoch 3/25\n",
            "7/7 [==============================] - 9s 1s/step - loss: 0.3334 - binary_accuracy: 0.8771 - val_loss: 0.2691 - val_binary_accuracy: 0.8837\n",
            "Epoch 4/25\n",
            "7/7 [==============================] - 9s 1s/step - loss: 0.3421 - binary_accuracy: 0.8789 - val_loss: 0.2743 - val_binary_accuracy: 0.9000\n",
            "Epoch 5/25\n",
            "7/7 [==============================] - 9s 1s/step - loss: 0.3149 - binary_accuracy: 0.8867 - val_loss: 0.2826 - val_binary_accuracy: 0.8977\n",
            "Epoch 6/25\n",
            "7/7 [==============================] - 9s 1s/step - loss: 0.3146 - binary_accuracy: 0.8797 - val_loss: 0.2681 - val_binary_accuracy: 0.9000\n",
            "Epoch 7/25\n",
            "7/7 [==============================] - 9s 1s/step - loss: 0.3031 - binary_accuracy: 0.8883 - val_loss: 0.2746 - val_binary_accuracy: 0.8975\n",
            "Epoch 8/25\n",
            "7/7 [==============================] - 9s 1s/step - loss: 0.3112 - binary_accuracy: 0.8806 - val_loss: 0.2697 - val_binary_accuracy: 0.8957\n",
            "Epoch 9/25\n",
            "7/7 [==============================] - 9s 1s/step - loss: 0.3018 - binary_accuracy: 0.8900 - val_loss: 0.2755 - val_binary_accuracy: 0.8975\n",
            "Epoch 10/25\n",
            "7/7 [==============================] - 9s 1s/step - loss: 0.3020 - binary_accuracy: 0.8873 - val_loss: 0.2712 - val_binary_accuracy: 0.8930\n",
            "Epoch 11/25\n",
            "7/7 [==============================] - 9s 1s/step - loss: 0.3087 - binary_accuracy: 0.8884 - val_loss: 0.2877 - val_binary_accuracy: 0.8948\n",
            "Epoch 12/25\n",
            "7/7 [==============================] - 9s 1s/step - loss: 0.3116 - binary_accuracy: 0.8923 - val_loss: 0.2739 - val_binary_accuracy: 0.8957\n",
            "Epoch 13/25\n",
            "7/7 [==============================] - 9s 1s/step - loss: 0.2909 - binary_accuracy: 0.8898 - val_loss: 0.2738 - val_binary_accuracy: 0.8953\n",
            "Epoch 14/25\n",
            "7/7 [==============================] - 9s 1s/step - loss: 0.2944 - binary_accuracy: 0.8908 - val_loss: 0.2860 - val_binary_accuracy: 0.8957\n",
            "Epoch 15/25\n",
            "7/7 [==============================] - 9s 1s/step - loss: 0.2909 - binary_accuracy: 0.8959 - val_loss: 0.2990 - val_binary_accuracy: 0.8955\n",
            "Epoch 16/25\n",
            "7/7 [==============================] - 9s 1s/step - loss: 0.2921 - binary_accuracy: 0.8995 - val_loss: 0.2722 - val_binary_accuracy: 0.8952\n",
            "Epoch 17/25\n",
            "7/7 [==============================] - 9s 1s/step - loss: 0.2814 - binary_accuracy: 0.9009 - val_loss: 0.2781 - val_binary_accuracy: 0.8934\n",
            "Epoch 18/25\n",
            "7/7 [==============================] - 9s 1s/step - loss: 0.2910 - binary_accuracy: 0.8959 - val_loss: 0.2908 - val_binary_accuracy: 0.8961\n",
            "Epoch 19/25\n",
            "7/7 [==============================] - 9s 1s/step - loss: 0.2862 - binary_accuracy: 0.8993 - val_loss: 0.2769 - val_binary_accuracy: 0.8971\n",
            "Epoch 20/25\n",
            "7/7 [==============================] - 9s 1s/step - loss: 0.2803 - binary_accuracy: 0.8959 - val_loss: 0.2794 - val_binary_accuracy: 0.8963\n",
            "Epoch 21/25\n",
            "7/7 [==============================] - 9s 1s/step - loss: 0.2862 - binary_accuracy: 0.8981 - val_loss: 0.2846 - val_binary_accuracy: 0.8953\n",
            "Epoch 22/25\n",
            "7/7 [==============================] - 9s 1s/step - loss: 0.2687 - binary_accuracy: 0.9073 - val_loss: 0.2886 - val_binary_accuracy: 0.8938\n",
            "Epoch 23/25\n",
            "7/7 [==============================] - 9s 1s/step - loss: 0.2720 - binary_accuracy: 0.9015 - val_loss: 0.3141 - val_binary_accuracy: 0.8847\n",
            "Epoch 24/25\n",
            "7/7 [==============================] - 9s 1s/step - loss: 0.2878 - binary_accuracy: 0.8995 - val_loss: 0.2801 - val_binary_accuracy: 0.8969\n",
            "Epoch 25/25\n",
            "7/7 [==============================] - 9s 1s/step - loss: 0.2753 - binary_accuracy: 0.9039 - val_loss: 0.2941 - val_binary_accuracy: 0.8911\n"
          ],
          "name": "stdout"
        }
      ]
    },
    {
      "cell_type": "code",
      "metadata": {
        "colab": {
          "base_uri": "https://localhost:8080/"
        },
        "id": "-oCNI2l3stqj",
        "outputId": "e02a8efc-c75c-4845-9d86-380e8e4e7d9d"
      },
      "source": [
        "score_second = model_second.evaluate(x_test, y_test, verbose=0)\n",
        "print('model Test accuracy: {0:%}'.format(score_second[1]))\n",
        "print('model Test LOSS: {0:%}'.format(score_second[0]))"
      ],
      "execution_count": null,
      "outputs": [
        {
          "output_type": "stream",
          "text": [
            "model Test accuracy: 89.108533%\n",
            "model Test LOSS: 29.410717%\n"
          ],
          "name": "stdout"
        }
      ]
    },
    {
      "cell_type": "code",
      "metadata": {
        "colab": {
          "base_uri": "https://localhost:8080/",
          "height": 312
        },
        "id": "mOvoPeY4s3Yw",
        "outputId": "c1a3734f-8ce6-4fc4-9cfe-22052cf6e690"
      },
      "source": [
        "#ikinci model doğruluk grafiği\n",
        "import matplotlib.pyplot as plt\n",
        "\n",
        "plt.plot(hist.history['binary_accuracy'])\n",
        "plt.plot(hist.history['val_binary_accuracy'])\n",
        "plt.title('model accuracy')\n",
        "plt.ylabel('accuracy')\n",
        "plt.xlabel('epoch')\n",
        "plt.legend(['train', 'test'], loc='upper left')\n",
        "plt.show()\n",
        "plt.savefig('second_model_accuracy.jpeg')"
      ],
      "execution_count": null,
      "outputs": [
        {
          "output_type": "display_data",
          "data": {
            "image/png": "[encoded data removed]",
            "text/plain": [
              "<Figure size 432x288 with 1 Axes>"
            ]
          },
          "metadata": {
            "tags": [],
            "needs_background": "light"
          }
        },
        {
          "output_type": "display_data",
          "data": {
            "text/plain": [
              "<Figure size 432x288 with 0 Axes>"
            ]
          },
          "metadata": {
            "tags": []
          }
        }
      ]
    },
    {
      "cell_type": "code",
      "metadata": {
        "colab": {
          "base_uri": "https://localhost:8080/",
          "height": 312
        },
        "id": "MuX0S-yts4Lj",
        "outputId": "638983c0-643c-40a3-e70d-ee42b450c9e7"
      },
      "source": [
        "#ikinci model kayıp grafiği\n",
        "plt.plot(hist.history['loss'])\n",
        "plt.plot(hist.history['val_loss'])\n",
        "plt.title('model loss')\n",
        "plt.ylabel('loss')\n",
        "plt.xlabel('epoch')\n",
        "plt.legend(['train', 'test'], loc='upper left')\n",
        "plt.show()\n",
        "plt.savefig('second_model_loss.jpeg')"
      ],
      "execution_count": null,
      "outputs": [
        {
          "output_type": "display_data",
          "data": {
            "image/png": "[encoded data removed]",
            "text/plain": [
              "<Figure size 432x288 with 1 Axes>"
            ]
          },
          "metadata": {
            "tags": [],
            "needs_background": "light"
          }
        },
        {
          "output_type": "display_data",
          "data": {
            "text/plain": [
              "<Figure size 432x288 with 0 Axes>"
            ]
          },
          "metadata": {
            "tags": []
          }
        }
      ]
    }
  ]
}